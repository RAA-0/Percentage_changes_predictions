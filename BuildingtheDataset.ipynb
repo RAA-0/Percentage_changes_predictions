{
 "cells": [
  {
   "cell_type": "code",
   "execution_count": 2,
   "metadata": {},
   "outputs": [],
   "source": [
    "import pandas as pd \n",
    "import json \n",
    "from events_conf.events_factory import EventFactory\n",
    "\n",
    "f=EventFactory()\n",
    "with open('events_conf\\\\event_config1.json') as r:\n",
    "    data = json.load(r)"
   ]
  },
  {
   "cell_type": "code",
   "execution_count": null,
   "metadata": {},
   "outputs": [],
   "source": [
    "df = pd.DataFrame()\n",
    "for event in data.keys():\n",
    "    print (event) \n",
    "    event_config = f.create_config(event)\n",
    "    if not (event_config is None):\n",
    "        for year in event_config.years:\n",
    "            start_date, end_date = event_config.get_dates(year)\n",
    "            arrival_percentage, departure_percentage = event_config.get_percentage_changes(year,start_date,end_date)\n",
    "            new_df = pd.DataFrame({\n",
    "                'year':[year],\n",
    "                'event':[event_config.event],\n",
    "                'start_date':[start_date],\n",
    "                'end_date': [end_date],\n",
    "                'arrival_percentage_change':arrival_percentage if not pd.isna(arrival_percentage) else [data[event]['percentage_changes']['arrival'][data[event]['years'].index(year)]],\n",
    "                'departure_percentage_change':departure_percentage if not pd.isna(departure_percentage) else [data[event]['percentage_changes']['departure'][data[event]['years'].index(year)]]\n",
    "\n",
    "            })\n",
    "    \n",
    "            df = pd.concat([df,new_df])\n",
    "\n",
    "\n",
    "    else:\n",
    "        for year in data[event]['years']:\n",
    "            new_df = pd.DataFrame({\n",
    "                    'year':[year],\n",
    "                    'event':[event],\n",
    "                    'start_date':[data[event]['dates']['start'][data[event]['years'].index(year)]],\n",
    "                    'end_date': [data[event]['dates']['end'][data[event]['years'].index(year)]],\n",
    "                    'arrival_percentage_change':[data[event]['percentage_changes']['arrival'][data[event]['years'].index(year)]],\n",
    "                    'departure_percentage_change':[data[event]['percentage_changes']['departure'][data[event]['years'].index(year)]]\n",
    "                })\n",
    "            df = pd.concat([df,new_df])\n",
    "df.to_csv('data\\\\Training\\\\TrainingDataset.csv',index=False) \n"
   ]
  }
 ],
 "metadata": {
  "kernelspec": {
   "display_name": "Python 3",
   "language": "python",
   "name": "python3"
  },
  "language_info": {
   "codemirror_mode": {
    "name": "ipython",
    "version": 3
   },
   "file_extension": ".py",
   "mimetype": "text/x-python",
   "name": "python",
   "nbconvert_exporter": "python",
   "pygments_lexer": "ipython3",
   "version": "3.12.2"
  }
 },
 "nbformat": 4,
 "nbformat_minor": 2
}
