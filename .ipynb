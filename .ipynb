{
 "cells": [
  {
   "cell_type": "code",
   "execution_count": 1,
   "metadata": {},
   "outputs": [],
   "source": [
    "import pandas as pd "
   ]
  },
  {
   "cell_type": "code",
   "execution_count": 2,
   "metadata": {},
   "outputs": [],
   "source": [
    "df=pd.read_csv('total_arrival_predictions.csv')\n",
    "df['ds'] = pd.to_datetime({'year': df['date_time_year'], 'month': df['date_time_month'], 'day':df['date_time_day_of_month']})\n",
    "df.sort_values(by='ds',inplace=True)\n",
    "df.reset_index(drop=True,inplace=True)\n",
    "df=df[['ds','total','Predicted_total','capacity']]"
   ]
  },
  {
   "cell_type": "code",
   "execution_count": 3,
   "metadata": {},
   "outputs": [],
   "source": [
    "df.to_csv('total_arrival_predictions.csv',index=False)"
   ]
  },
  {
   "cell_type": "code",
   "execution_count": null,
   "metadata": {},
   "outputs": [],
   "source": [
    "df = df[(df['ds'].dt.year.isin([2022]))]\n",
    "df = df[df['ds'].dt.month.isin([1])]"
   ]
  },
  {
   "cell_type": "code",
   "execution_count": 13,
   "metadata": {},
   "outputs": [
    {
     "name": "stdout",
     "output_type": "stream",
     "text": [
      "47\n",
      "19\n",
      "2.247653855968731\n"
     ]
    }
   ],
   "source": [
    "df = pd.read_csv('ndfs.csv')\n",
    "df['ds']=pd.to_datetime(df['ds'])\n",
    "df = df[df['ds'].dt.year.isin([2022])]\n",
    "df = df[df['ds'].dt.month.isin([1])]\n",
    "df=df[df['ds'].dt.day==7]\n",
    "changes = df['total']-df['Predicted_total']\n",
    "print(len(changes))\n",
    "print(len([i for i in changes if i<0]))\n",
    "sum=0\n",
    "for i in changes:\n",
    "    sum+=i\n",
    "print(sum/len(changes))"
   ]
  },
  {
   "cell_type": "code",
   "execution_count": 9,
   "metadata": {},
   "outputs": [
    {
     "name": "stdout",
     "output_type": "stream",
     "text": [
      "0.7064074055691425\n",
      "0.7064074055691425\n"
     ]
    }
   ],
   "source": [
    "import pandas as pd\n",
    "df = pd.read_csv('ndfs.csv')\n",
    "df['ds']=pd.to_datetime(df['ds'])\n",
    "df = df[df['ds'].dt.year.isin([2022])]\n",
    "df = df[df['ds'].dt.month.isin([1])]\n",
    "df = df[df['ds'].dt.day.isin([31])]\n",
    "\n",
    "from sklearn.metrics import r2_score\n",
    "\n",
    "print(r2_score(df['total'],df['Predicted_total']))\n",
    "print(r2_score(df['total'],df['new_prediction']))"
   ]
  }
 ],
 "metadata": {
  "kernelspec": {
   "display_name": "Python 3",
   "language": "python",
   "name": "python3"
  },
  "language_info": {
   "codemirror_mode": {
    "name": "ipython",
    "version": 3
   },
   "file_extension": ".py",
   "mimetype": "text/x-python",
   "name": "python",
   "nbconvert_exporter": "python",
   "pygments_lexer": "ipython3",
   "version": "3.12.2"
  }
 },
 "nbformat": 4,
 "nbformat_minor": 2
}
