{
 "cells": [
  {
   "cell_type": "code",
   "execution_count": 1,
   "metadata": {},
   "outputs": [],
   "source": [
    "import pandas as pd\n",
    "\n",
    "df = pd.read_csv('sports_df.csv')"
   ]
  },
  {
   "cell_type": "code",
   "execution_count": 2,
   "metadata": {},
   "outputs": [],
   "source": [
    "import ast\n",
    "new_df=pd.DataFrame() \n",
    "for _, row in df.iterrows():\n",
    "    if isinstance(row['days'], str) and row['days'].startswith('['):\n",
    "        day_list = ast.literal_eval(row['days'])\n",
    "        for day in day_list:\n",
    "            df = pd.DataFrame({\"year\":[row['year']],\"month\":[row['month']],'day':[day],'event':[row['event']]})\n",
    "            new_df = pd.concat([new_df,df])\n",
    "new_df.to_csv(\"expanded_sports_df.csv\",index=False)"
   ]
  }
 ],
 "metadata": {
  "kernelspec": {
   "display_name": "Python 3",
   "language": "python",
   "name": "python3"
  },
  "language_info": {
   "codemirror_mode": {
    "name": "ipython",
    "version": 3
   },
   "file_extension": ".py",
   "mimetype": "text/x-python",
   "name": "python",
   "nbconvert_exporter": "python",
   "pygments_lexer": "ipython3",
   "version": "3.12.2"
  }
 },
 "nbformat": 4,
 "nbformat_minor": 2
}
